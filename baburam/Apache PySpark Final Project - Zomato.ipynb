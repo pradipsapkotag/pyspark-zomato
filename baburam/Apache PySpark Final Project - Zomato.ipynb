{
 "cells": [
  {
   "cell_type": "code",
   "execution_count": 1,
   "id": "8469fc2f",
   "metadata": {},
   "outputs": [],
   "source": [
    "# importing pyspark\n",
    "import pyspark"
   ]
  },
  {
   "cell_type": "code",
   "execution_count": 2,
   "id": "6404c0e3",
   "metadata": {},
   "outputs": [],
   "source": [
    "# importing session from sql from pyspark to start the sessio\n",
    "from pyspark.sql import SparkSession"
   ]
  },
  {
   "cell_type": "code",
   "execution_count": 3,
   "id": "2221a889",
   "metadata": {},
   "outputs": [
    {
     "name": "stdout",
     "output_type": "stream",
     "text": [
      "22/11/02 22:31:00 WARN Utils: Your hostname, HP-G62 resolves to a loopback address: 127.0.1.1; using 192.168.18.113 instead (on interface enp3s0)\n",
      "22/11/02 22:31:00 WARN Utils: Set SPARK_LOCAL_IP if you need to bind to another address\n"
     ]
    },
    {
     "name": "stderr",
     "output_type": "stream",
     "text": [
      "Setting default log level to \"WARN\".\n",
      "To adjust logging level use sc.setLogLevel(newLevel). For SparkR, use setLogLevel(newLevel).\n"
     ]
    },
    {
     "name": "stdout",
     "output_type": "stream",
     "text": [
      "22/11/02 22:31:02 WARN NativeCodeLoader: Unable to load native-hadoop library for your platform... using builtin-java classes where applicable\n",
      "22/11/02 22:31:04 WARN Utils: Service 'SparkUI' could not bind on port 4040. Attempting port 4041.\n"
     ]
    }
   ],
   "source": [
    "# creating the seasion\n",
    "spark = SparkSession.builder.appName(\"Apache PySpark Final Project-Zomato\").getOrCreate()"
   ]
  },
  {
   "cell_type": "code",
   "execution_count": 4,
   "id": "17b782cc",
   "metadata": {},
   "outputs": [
    {
     "name": "stderr",
     "output_type": "stream",
     "text": [
      "                                                                                \r"
     ]
    }
   ],
   "source": [
    "# creating zomato dataframe fro the zomato.csv file\n",
    "zomato_df = spark.read.csv('zomato.csv',inferSchema=True,header=True)"
   ]
  },
  {
   "cell_type": "code",
   "execution_count": 5,
   "id": "a313c6ee",
   "metadata": {},
   "outputs": [
    {
     "name": "stdout",
     "output_type": "stream",
     "text": [
      "root\n",
      " |-- url: string (nullable = true)\n",
      " |-- address: string (nullable = true)\n",
      " |-- name: string (nullable = true)\n",
      " |-- online_order: string (nullable = true)\n",
      " |-- book_table: string (nullable = true)\n",
      " |-- rate: string (nullable = true)\n",
      " |-- votes: string (nullable = true)\n",
      " |-- phone: string (nullable = true)\n",
      " |-- location: string (nullable = true)\n",
      " |-- rest_type: string (nullable = true)\n",
      " |-- dish_liked: string (nullable = true)\n",
      " |-- cuisines: string (nullable = true)\n",
      " |-- approx_cost(for two people): string (nullable = true)\n",
      " |-- reviews_list: string (nullable = true)\n",
      " |-- menu_item: string (nullable = true)\n",
      " |-- listed_in(type): string (nullable = true)\n",
      " |-- listed_in(city): string (nullable = true)\n",
      "\n"
     ]
    }
   ],
   "source": [
    "# printing the schema of zomato dataframe\n",
    "zomato_df.printSchema()"
   ]
  },
  {
   "cell_type": "code",
   "execution_count": 6,
   "id": "df7c3d02",
   "metadata": {},
   "outputs": [
    {
     "name": "stdout",
     "output_type": "stream",
     "text": [
      "+--------------------+--------------------+--------------------+--------------------+--------------------+-----+--------------------+--------------------+--------------------+--------------------+--------------------+--------------------+---------------------------+--------------------+--------------------+--------------------+--------------------+\n",
      "|                 url|             address|                name|        online_order|          book_table| rate|               votes|               phone|            location|           rest_type|          dish_liked|            cuisines|approx_cost(for two people)|        reviews_list|           menu_item|     listed_in(type)|     listed_in(city)|\n",
      "+--------------------+--------------------+--------------------+--------------------+--------------------+-----+--------------------+--------------------+--------------------+--------------------+--------------------+--------------------+---------------------------+--------------------+--------------------+--------------------+--------------------+\n",
      "|https://www.zomat...|942, 21st Main Ro...|               Jalsa|                 Yes|                 Yes|4.1/5|                 775|        080 42297555|                null|                null|                null|                null|                       null|                null|                null|                null|                null|\n",
      "|     +91 9743772233\"|        Banashankari|       Casual Dining|Pasta, Lunch Buff...|North Indian, Mug...|  800|\"[('Rated 4.0', '...|        ('Rated 4.0'| 'RATED\\n  You ca...|        ('Rated 5.0'| 'RATED\\n  Overde...|        ('Rated 4.0'|        'RATED\\n  The pl...|        ('Rated 4.0'| 'RATED\\n  The pl...|        ('Rated 4.0'| 'RATED\\n  The pl...|\n",
      "|https://www.zomat...|2nd Floor, 80 Fee...|      Spice Elephant|                 Yes|                  No|4.1/5|                 787|        080 41714161|        Banashankari|       Casual Dining|Momos, Lunch Buff...|Chinese, North In...|                        800|\"[('Rated 4.0', '...|rice was well coo...|        ('Rated 5.0'| 'RATED\\n  This p...|\n",
      "|https://www.zomat...|1112, Next to KIM...|     San Churro Cafe|                 Yes|                  No|3.8/5|                 918|      +91 9663487993|        Banashankari| Cafe, Casual Dining|Churros, Cannello...|Cafe, Mexican, It...|                        800|\"[('Rated 3.0', \"...|        ('Rated 3.0'| \"\"RATED\\n \\nWent...| pasta churros an...|\n",
      "|https://www.zomat...|1st Floor, Annaku...|Addhuri Udupi Bho...|                  No|                  No|3.7/5|                  88|      +91 9620009302|        Banashankari|         Quick Bites|         Masala Dosa|South Indian, Nor...|                        300|\"[('Rated 4.0', \"...|        ('Rated 2.0'| 'RATED\\n  Reache...|        ('Rated 4.0'|\n",
      "|https://www.zomat...|10, 3rd Floor, La...|       Grand Village|                  No|                  No|3.8/5|                 166|      +91 8026612447|                null|                null|                null|                null|                       null|                null|                null|                null|                null|\n",
      "|     +91 9901210005\"|        Basavanagudi|       Casual Dining| Panipuri, Gol Gappe|North Indian, Raj...|  600|[('Rated 4.0', 'R...|                  []|              Buffet|        Banashankari|                null|                null|                       null|                null|                null|                null|                null|\n",
      "|https://www.zomat...|37, 5-1, 4th Floo...|     Timepass Dinner|                 Yes|                  No|3.8/5|                 286|      +91 9980040002|                null|                null|                null|                null|                       null|                null|                null|                null|                null|\n",
      "|     +91 9980063005\"|        Basavanagudi|       Casual Dining|Onion Rings, Past...|        North Indian|  600|[('Rated 3.0', 'R...|                  []|              Buffet|        Banashankari|                null|                null|                       null|                null|                null|                null|                null|\n",
      "|https://www.zomat...|19/1, New Timbery...|Rosewood Internat...|                  No|                  No|3.6/5|                   8|      +91 9731716688|                null|                null|                null|                null|                       null|                null|                null|                null|                null|\n",
      "|       080 26740366\"|         Mysore Road|       Casual Dining|                null|North Indian, Sou...|  800|[('Rated 5.0', 'R...|                  []|              Buffet|        Banashankari|                null|                null|                       null|                null|                null|                null|                null|\n",
      "|https://www.zomat...|2469, 3rd Floor, ...|              Onesta|                 Yes|                 Yes|4.6/5|                2556|        080 48653961|                null|                null|                null|                null|                       null|                null|                null|                null|                null|\n",
      "|       080 48655715\"|        Banashankari| Casual Dining, Cafe|Farmhouse Pizza, ...|Pizza, Cafe, Italian|  600|\"[('Rated 5.0', '...| and my 5th diffe...|            JP Nagar|        Basavanagudi| Koramangala baka...| it's the unlimit...|                        but| but there is a c...| unlimited desser...| one dessert and ...| I have been thro...|\n",
      "|https://www.zomat...|1, 30th Main Road...|      Penthouse Cafe|                 Yes|                  No|4.0/5|                 324|      +91 8884135549|                null|                null|                null|                null|                       null|                null|                null|                null|                null|\n",
      "|     +91 9449449316\"|        Banashankari|                Cafe|Pizza, Mocktails,...|Cafe, Italian, Co...|  700|\"[('Rated 3.0', \"...| it's a very smal...|        ('Rated 4.0'|    \"\"RATED\\n  Small|                cosy| covered rooftop ...|                      pasta| pizza and sizzle...|        ('Rated 4.0'| \"\"RATED\\n  Small...|        ('Rated 4.0'|\n",
      "|https://www.zomat...|2470, 21 Main Roa...|           Smacznego|                 Yes|                  No|4.2/5|                 504|      +91 9945230807|                null|                null|                null|                null|                       null|                null|                null|                null|                null|\n",
      "|     +91 9743804471\"|        Banashankari|                Cafe|Waffles, Pasta, C...|Cafe, Mexican, It...|  550|\"[('Rated 4.0', \"...|        ('Rated 4.0'| 'RATED\\n  A tuck...| slightly off the...| they served in f...|        ('Rated 5.0'|        'RATED\\n  Been h...| although takes a...| do taste quite y...|        ('Rated 5.0'| 'RATED\\n  Being ...|\n",
      "|https://www.zomat...|12,29 Near PES Un...|CafÃÂÃÂÃÂÃ...|                 Yes|                  No|4.1/5|                 402|        080 26724489|                null|                null|                null|                null|                       null|                null|                null|                null|                null|\n",
      "|     +91 7406048982\"|        Banashankari|                Cafe|Waffles, Pasta, C...|                Cafe|  500|\"[('Rated 4.0', '...| I wish they gave...| pasta arrabiata ...| waffles and nugg...| a good hangout p...| I wouldn't sugge...|               ('Rated 3.0'| 'RATED\\n  A good...| and this place c...|                  []|               Cafes|\n",
      "|https://www.zomat...|941, 3rd FLOOR, 2...|        Cafe Shuffle|                 Yes|                 Yes|4.2/5|                 150|      +91 9742166777|        Banashankari|                Cafe|Mocktails, Peri F...|Cafe, Italian, Co...|                        600|\"[('Rated 1.0', \"...| you get it liter...|        ('Rated 4.0'| \"\"RATED\\n  While...|\n",
      "+--------------------+--------------------+--------------------+--------------------+--------------------+-----+--------------------+--------------------+--------------------+--------------------+--------------------+--------------------+---------------------------+--------------------+--------------------+--------------------+--------------------+\n",
      "only showing top 20 rows\n",
      "\n"
     ]
    }
   ],
   "source": [
    "# showing the data from zomato dataframe\n",
    "zomato_df.show()"
   ]
  },
  {
   "cell_type": "code",
   "execution_count": 7,
   "id": "a42973ff",
   "metadata": {},
   "outputs": [
    {
     "data": {
      "text/plain": [
       "['url',\n",
       " 'address',\n",
       " 'name',\n",
       " 'online_order',\n",
       " 'book_table',\n",
       " 'rate',\n",
       " 'votes',\n",
       " 'phone',\n",
       " 'location',\n",
       " 'rest_type',\n",
       " 'dish_liked',\n",
       " 'cuisines',\n",
       " 'approx_cost(for two people)',\n",
       " 'reviews_list',\n",
       " 'menu_item',\n",
       " 'listed_in(type)',\n",
       " 'listed_in(city)']"
      ]
     },
     "execution_count": 7,
     "metadata": {},
     "output_type": "execute_result"
    }
   ],
   "source": [
    "# printing the columns of zomato dataframe\n",
    "zomato_df.columns"
   ]
  },
  {
   "cell_type": "code",
   "execution_count": 8,
   "id": "dca9d5ae",
   "metadata": {},
   "outputs": [
    {
     "name": "stdout",
     "output_type": "stream",
     "text": [
      "root\n",
      " |-- url: string (nullable = true)\n",
      " |-- address: string (nullable = true)\n",
      " |-- name: string (nullable = true)\n",
      " |-- online_order: string (nullable = true)\n",
      " |-- book_table: string (nullable = true)\n",
      " |-- rating: string (nullable = true)\n",
      " |-- votes: string (nullable = true)\n",
      " |-- phone: string (nullable = true)\n",
      " |-- location: string (nullable = true)\n",
      " |-- type: string (nullable = true)\n",
      " |-- dish_liked: string (nullable = true)\n",
      " |-- cuisines: string (nullable = true)\n",
      " |-- approx_cost_two_people: string (nullable = true)\n",
      " |-- reviews_list: string (nullable = true)\n",
      " |-- menu_item: string (nullable = true)\n",
      " |-- category_listed: string (nullable = true)\n",
      " |-- city: string (nullable = true)\n",
      "\n"
     ]
    }
   ],
   "source": [
    "# Change the column name “rate”  into rating\n",
    "# Change the column name “approx_cost (for two people)”  into approx_cost_two_people\n",
    "# Change the column name “listed_in(type)” into category_listed\n",
    "# Change the column name “listed_in(city)” into city\n",
    "# Change the column name “rest_type” into type\n",
    "zomato_df=zomato_df.withColumnRenamed(\"rate\",\"rating\")\\\n",
    "    .withColumnRenamed(\"approx_cost(for two people)\",\"approx_cost_two_people\")\\\n",
    "    .withColumnRenamed(\"listed_in(type)\",\"category_listed\")\\\n",
    "    .withColumnRenamed(\"listed_in(city)\",\"city\")\\\n",
    "    .withColumnRenamed(\"rest_type\",\"type\")\n",
    "\n",
    "zomato_df.printSchema()"
   ]
  },
  {
   "cell_type": "code",
   "execution_count": 9,
   "id": "1862f395",
   "metadata": {},
   "outputs": [
    {
     "data": {
      "text/plain": [
       "['name',\n",
       " 'online_order',\n",
       " 'book_table',\n",
       " 'rating',\n",
       " 'votes',\n",
       " 'phone',\n",
       " 'location',\n",
       " 'type',\n",
       " 'dish_liked',\n",
       " 'cuisines',\n",
       " 'approx_cost_two_people']"
      ]
     },
     "execution_count": 9,
     "metadata": {},
     "output_type": "execute_result"
    }
   ],
   "source": [
    "# dropping url. address, menu list , review list\n",
    "zomato_df=zomato_df.drop(\"url\",\"address\",\"menu_item\",\"reviews_list\",\"city\",\"category_listed\")\n",
    "zomato_df.columns"
   ]
  },
  {
   "cell_type": "code",
   "execution_count": 10,
   "id": "b7208fd6",
   "metadata": {},
   "outputs": [
    {
     "data": {
      "text/plain": [
       "['name',\n",
       " 'online_order',\n",
       " 'book_table',\n",
       " 'rating',\n",
       " 'votes',\n",
       " 'phone',\n",
       " 'location',\n",
       " 'type',\n",
       " 'dish_liked',\n",
       " 'cuisines',\n",
       " 'approx_cost_two_people']"
      ]
     },
     "execution_count": 10,
     "metadata": {},
     "output_type": "execute_result"
    }
   ],
   "source": [
    "# removing  dupicate rows from the zomato dataframe\n",
    "zomato_df.dropDuplicates()\n",
    "zomato_df.columns"
   ]
  },
  {
   "cell_type": "code",
   "execution_count": 11,
   "id": "00df8aef",
   "metadata": {},
   "outputs": [
    {
     "name": "stdout",
     "output_type": "stream",
     "text": [
      "+--------------------+--------------------+--------------------+------+--------------------+--------------------+--------------------+--------------------+--------------------+--------------------+----------------------+\n",
      "|                name|        online_order|          book_table|rating|               votes|               phone|            location|                type|          dish_liked|            cuisines|approx_cost_two_people|\n",
      "+--------------------+--------------------+--------------------+------+--------------------+--------------------+--------------------+--------------------+--------------------+--------------------+----------------------+\n",
      "|       Casual Dining|Pasta, Lunch Buff...|North Indian, Mug...|   800|\"[('Rated 4.0', '...|        ('Rated 4.0'| 'RATED\\n  You ca...|        ('Rated 5.0'| 'RATED\\n  Overde...|        ('Rated 4.0'|   'RATED\\n  The pl...|\n",
      "|      Spice Elephant|                 Yes|                  No| 4.1/5|                 787|        080 41714161|        Banashankari|       Casual Dining|Momos, Lunch Buff...|Chinese, North In...|                   800|\n",
      "|     San Churro Cafe|                 Yes|                  No| 3.8/5|                 918|      +91 9663487993|        Banashankari| Cafe, Casual Dining|Churros, Cannello...|Cafe, Mexican, It...|                   800|\n",
      "|Addhuri Udupi Bho...|                  No|                  No| 3.7/5|                  88|      +91 9620009302|        Banashankari|         Quick Bites|         Masala Dosa|South Indian, Nor...|                   300|\n",
      "| Casual Dining, Cafe|Farmhouse Pizza, ...|Pizza, Cafe, Italian|   600|\"[('Rated 5.0', '...| and my 5th diffe...|            JP Nagar|        Basavanagudi| Koramangala baka...| it's the unlimit...|                   but|\n",
      "|                Cafe|Pizza, Mocktails,...|Cafe, Italian, Co...|   700|\"[('Rated 3.0', \"...| it's a very smal...|        ('Rated 4.0'|    \"\"RATED\\n  Small|                cosy| covered rooftop ...|                 pasta|\n",
      "|                Cafe|Waffles, Pasta, C...|Cafe, Mexican, It...|   550|\"[('Rated 4.0', \"...|        ('Rated 4.0'| 'RATED\\n  A tuck...| slightly off the...| they served in f...|        ('Rated 5.0'|   'RATED\\n  Been h...|\n",
      "|                Cafe|Waffles, Pasta, C...|                Cafe|   500|\"[('Rated 4.0', '...| I wish they gave...| pasta arrabiata ...| waffles and nugg...| a good hangout p...| I wouldn't sugge...|          ('Rated 3.0'|\n",
      "|        Cafe Shuffle|                 Yes|                 Yes| 4.2/5|                 150|      +91 9742166777|        Banashankari|                Cafe|Mocktails, Peri F...|Cafe, Italian, Co...|                   600|\n",
      "|    The Coffee Shack|                 Yes|                 Yes| 4.2/5|                 164|      +91 9731644212|        Banashankari|                Cafe|Coffee, Spaghetti...|Cafe, Chinese, Co...|                   500|\n",
      "|          Caf-Eleven|                  No|                  No| 4.0/5|                 424|        080 49577715|        Banashankari|                Cafe|Sandwich, Omelett...|   Cafe, Continental|                   450|\n",
      "|     San Churro Cafe|                 Yes|                  No| 3.8/5|                 918|      +91 9663487993|        Banashankari| Cafe, Casual Dining|Churros, Cannello...|Cafe, Mexican, It...|                   800|\n",
      "|                Cafe|Garlic Bread, Bur...|                Cafe|   650|\"[('Rated 2.0', '...| pleasant cafe wh...| with white picke...| lovely indoor am...|        french fries| brownie with ice...|   a dessert came w...|\n",
      "|                Cafe|Pasta, Gelato, Ga...|Chinese, Cafe, It...|   700|\"[('Rated 3.0', \"...|I tried Chinese f...| too good for the...|not great. Defini...|        ('Rated 3.0'| 'RATED\\n  Had be...|                    []|\n",
      "|            T3H Cafe|                  No|                  No| 3.9/5|                  93|      +91 8884726600|        Banashankari|                Cafe|Cheese Maggi, Per...|Cafe, Italian, Am...|                   300|\n",
      "|                Cafe|Burgers, Caramel ...|Cafe, French, Nor...|   400|\"[('Rated 2.0', \"...| and they serve a...| neither are the ...| as well as Iced ...| which is priced ...| but not terrible...|          ('Rated 1.0'|\n",
      "|        Woodee Pizza|                 Yes|                  No| 3.7/5|                 180|      +91 7406822844|        Banashankari|                Cafe| Pizza, Garlic Bread|Cafe, Pizza, Fast...|                   500|\n",
      "|   Quick Bites, Cafe|     Pasta, Iced Tea|Italian, Fast Foo...|   600|\"[('Rated 4.0', \"...| went here with f...| they have it. Th...| you won't regret...|                  []|               Cafes|          Banashankari|\n",
      "|           Redberrys|                 Yes|                  No| 4.0/5|                 219|      +91 9148421256|        Basavanagudi|                Cafe|Pizza, Fries, Anj...|       Cafe, Italian|                   600|\n",
      "|          Foodiction|                 Yes|                  No| 2.8/5|                 506|      +91 9916107070|        Banashankari|         Quick Bites|Burgers, Lassi, C...|North Indian, Fas...|                   500|\n",
      "+--------------------+--------------------+--------------------+------+--------------------+--------------------+--------------------+--------------------+--------------------+--------------------+----------------------+\n",
      "only showing top 20 rows\n",
      "\n"
     ]
    }
   ],
   "source": [
    "# removing  null rows containg null values from the zomato dataframe\n",
    "zomato_df=zomato_df.na.drop(\"any\")\n",
    "zomato_df.show()"
   ]
  },
  {
   "cell_type": "code",
   "execution_count": 12,
   "id": "63c4da89",
   "metadata": {},
   "outputs": [
    {
     "name": "stderr",
     "output_type": "stream",
     "text": [
      "                                                                                \r"
     ]
    },
    {
     "data": {
      "text/plain": [
       "20135"
      ]
     },
     "execution_count": 12,
     "metadata": {},
     "output_type": "execute_result"
    }
   ],
   "source": [
    "zomato_df.count()"
   ]
  },
  {
   "cell_type": "code",
   "execution_count": 13,
   "id": "288069bf",
   "metadata": {},
   "outputs": [
    {
     "name": "stderr",
     "output_type": "stream",
     "text": [
      "                                                                                \r"
     ]
    }
   ],
   "source": [
    "zomato_df.toPandas().to_csv('data/cleaned_zomato.csv',index= False)"
   ]
  },
  {
   "cell_type": "code",
   "execution_count": 16,
   "id": "113b4272",
   "metadata": {},
   "outputs": [],
   "source": [
    "import pandas as pd"
   ]
  },
  {
   "cell_type": "code",
   "execution_count": 17,
   "id": "9fda9eb5",
   "metadata": {},
   "outputs": [
    {
     "data": {
      "text/plain": [
       "name                      20135\n",
       "online_order              20135\n",
       "book_table                20135\n",
       "rating                    20135\n",
       "votes                     20135\n",
       "phone                     20135\n",
       "location                  20135\n",
       "type                      20135\n",
       "dish_liked                20135\n",
       "cuisines                  20135\n",
       "approx_cost_two_people    20135\n",
       "dtype: int64"
      ]
     },
     "execution_count": 17,
     "metadata": {},
     "output_type": "execute_result"
    }
   ],
   "source": [
    "cleaned_zomato_df=pd.read_csv(\"data/cleaned_zomato.csv\")\n",
    "cleaned_zomato_df.count()"
   ]
  },
  {
   "cell_type": "code",
   "execution_count": 21,
   "id": "eaaa5209",
   "metadata": {},
   "outputs": [
    {
     "data": {
      "text/plain": [
       "name                      11348\n",
       "online_order              11348\n",
       "book_table                11348\n",
       "rating                    11348\n",
       "votes                     11348\n",
       "phone                     11348\n",
       "location                  11348\n",
       "type                      11348\n",
       "dish_liked                11348\n",
       "cuisines                  11348\n",
       "approx_cost_two_people    11348\n",
       "dtype: int64"
      ]
     },
     "execution_count": 21,
     "metadata": {},
     "output_type": "execute_result"
    }
   ],
   "source": [
    "order=cleaned_zomato_df[(cleaned_zomato_df['online_order'] != \"Yes\") & (cleaned_zomato_df['online_order'] != \"No\")].index\n",
    "cleaned_zomato_df.drop(order , inplace=True)\n",
    "cleaned_zomato_df.count()"
   ]
  },
  {
   "cell_type": "code",
   "execution_count": 22,
   "id": "1bab0db3",
   "metadata": {},
   "outputs": [
    {
     "data": {
      "text/html": [
       "<div>\n",
       "<style scoped>\n",
       "    .dataframe tbody tr th:only-of-type {\n",
       "        vertical-align: middle;\n",
       "    }\n",
       "\n",
       "    .dataframe tbody tr th {\n",
       "        vertical-align: top;\n",
       "    }\n",
       "\n",
       "    .dataframe thead th {\n",
       "        text-align: right;\n",
       "    }\n",
       "</style>\n",
       "<table border=\"1\" class=\"dataframe\">\n",
       "  <thead>\n",
       "    <tr style=\"text-align: right;\">\n",
       "      <th></th>\n",
       "      <th>name</th>\n",
       "      <th>online_order</th>\n",
       "      <th>book_table</th>\n",
       "      <th>rating</th>\n",
       "      <th>votes</th>\n",
       "      <th>phone</th>\n",
       "      <th>location</th>\n",
       "      <th>type</th>\n",
       "      <th>dish_liked</th>\n",
       "      <th>cuisines</th>\n",
       "      <th>approx_cost_two_people</th>\n",
       "    </tr>\n",
       "  </thead>\n",
       "  <tbody>\n",
       "    <tr>\n",
       "      <th>1</th>\n",
       "      <td>Spice Elephant</td>\n",
       "      <td>Yes</td>\n",
       "      <td>No</td>\n",
       "      <td>4.1/5</td>\n",
       "      <td>787</td>\n",
       "      <td>080 41714161</td>\n",
       "      <td>Banashankari</td>\n",
       "      <td>Casual Dining</td>\n",
       "      <td>Momos, Lunch Buffet, Chocolate Nirvana, Thai G...</td>\n",
       "      <td>Chinese, North Indian, Thai</td>\n",
       "      <td>800</td>\n",
       "    </tr>\n",
       "    <tr>\n",
       "      <th>2</th>\n",
       "      <td>San Churro Cafe</td>\n",
       "      <td>Yes</td>\n",
       "      <td>No</td>\n",
       "      <td>3.8/5</td>\n",
       "      <td>918</td>\n",
       "      <td>+91 9663487993</td>\n",
       "      <td>Banashankari</td>\n",
       "      <td>Cafe, Casual Dining</td>\n",
       "      <td>Churros, Cannelloni, Minestrone Soup, Hot Choc...</td>\n",
       "      <td>Cafe, Mexican, Italian</td>\n",
       "      <td>800</td>\n",
       "    </tr>\n",
       "    <tr>\n",
       "      <th>3</th>\n",
       "      <td>Addhuri Udupi Bhojana</td>\n",
       "      <td>No</td>\n",
       "      <td>No</td>\n",
       "      <td>3.7/5</td>\n",
       "      <td>88</td>\n",
       "      <td>+91 9620009302</td>\n",
       "      <td>Banashankari</td>\n",
       "      <td>Quick Bites</td>\n",
       "      <td>Masala Dosa</td>\n",
       "      <td>South Indian, North Indian</td>\n",
       "      <td>300</td>\n",
       "    </tr>\n",
       "    <tr>\n",
       "      <th>8</th>\n",
       "      <td>Cafe Shuffle</td>\n",
       "      <td>Yes</td>\n",
       "      <td>Yes</td>\n",
       "      <td>4.2/5</td>\n",
       "      <td>150</td>\n",
       "      <td>+91 9742166777</td>\n",
       "      <td>Banashankari</td>\n",
       "      <td>Cafe</td>\n",
       "      <td>Mocktails, Peri Fries, Lasagne, Pizza, Chicken...</td>\n",
       "      <td>Cafe, Italian, Continental</td>\n",
       "      <td>600</td>\n",
       "    </tr>\n",
       "    <tr>\n",
       "      <th>9</th>\n",
       "      <td>The Coffee Shack</td>\n",
       "      <td>Yes</td>\n",
       "      <td>Yes</td>\n",
       "      <td>4.2/5</td>\n",
       "      <td>164</td>\n",
       "      <td>+91 9731644212</td>\n",
       "      <td>Banashankari</td>\n",
       "      <td>Cafe</td>\n",
       "      <td>Coffee, Spaghetti, Pancakes, Nachos, Pasta, Sa...</td>\n",
       "      <td>Cafe, Chinese, Continental, Italian</td>\n",
       "      <td>500</td>\n",
       "    </tr>\n",
       "  </tbody>\n",
       "</table>\n",
       "</div>"
      ],
      "text/plain": [
       "                    name online_order book_table rating votes           phone  \\\n",
       "1         Spice Elephant          Yes         No  4.1/5   787    080 41714161   \n",
       "2        San Churro Cafe          Yes         No  3.8/5   918  +91 9663487993   \n",
       "3  Addhuri Udupi Bhojana           No         No  3.7/5    88  +91 9620009302   \n",
       "8           Cafe Shuffle          Yes        Yes  4.2/5   150  +91 9742166777   \n",
       "9       The Coffee Shack          Yes        Yes  4.2/5   164  +91 9731644212   \n",
       "\n",
       "       location                 type  \\\n",
       "1  Banashankari        Casual Dining   \n",
       "2  Banashankari  Cafe, Casual Dining   \n",
       "3  Banashankari          Quick Bites   \n",
       "8  Banashankari                 Cafe   \n",
       "9  Banashankari                 Cafe   \n",
       "\n",
       "                                          dish_liked  \\\n",
       "1  Momos, Lunch Buffet, Chocolate Nirvana, Thai G...   \n",
       "2  Churros, Cannelloni, Minestrone Soup, Hot Choc...   \n",
       "3                                        Masala Dosa   \n",
       "8  Mocktails, Peri Fries, Lasagne, Pizza, Chicken...   \n",
       "9  Coffee, Spaghetti, Pancakes, Nachos, Pasta, Sa...   \n",
       "\n",
       "                              cuisines approx_cost_two_people  \n",
       "1          Chinese, North Indian, Thai                    800  \n",
       "2               Cafe, Mexican, Italian                    800  \n",
       "3           South Indian, North Indian                    300  \n",
       "8           Cafe, Italian, Continental                    600  \n",
       "9  Cafe, Chinese, Continental, Italian                    500  "
      ]
     },
     "execution_count": 22,
     "metadata": {},
     "output_type": "execute_result"
    }
   ],
   "source": [
    "cleaned_zomato_df.head()"
   ]
  },
  {
   "cell_type": "code",
   "execution_count": 23,
   "id": "a2d09b7e",
   "metadata": {},
   "outputs": [],
   "source": [
    "cleaned_zomato_df.to_csv(\"data/cleaned_zomato_df.csv\",index=False)\n",
    "cleaned_zomato_df.to_excel(\"data/cleaned_zomato_df.xlsx\",index=False)"
   ]
  }
 ],
 "metadata": {
  "kernelspec": {
   "display_name": "Python 3 (ipykernel)",
   "language": "python",
   "name": "python3"
  },
  "language_info": {
   "codemirror_mode": {
    "name": "ipython",
    "version": 3
   },
   "file_extension": ".py",
   "mimetype": "text/x-python",
   "name": "python",
   "nbconvert_exporter": "python",
   "pygments_lexer": "ipython3",
   "version": "3.10.6"
  }
 },
 "nbformat": 4,
 "nbformat_minor": 5
}
