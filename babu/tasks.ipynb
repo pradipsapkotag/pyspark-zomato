{
 "cells": [
  {
   "cell_type": "code",
   "execution_count": 1,
   "metadata": {},
   "outputs": [],
   "source": [
    "import pyspark\n",
    "from pyspark.sql import SparkSession\n",
    "\n",
    "from pyspark.sql.functions import udf,col\n",
    "from pyspark.sql.types import StringType\n"
   ]
  },
  {
   "cell_type": "code",
   "execution_count": 2,
   "metadata": {},
   "outputs": [
    {
     "name": "stdout",
     "output_type": "stream",
     "text": [
      "22/11/04 09:51:25 WARN Utils: Your hostname, HP-G62 resolves to a loopback address: 127.0.1.1; using 192.168.18.113 instead (on interface enp3s0)\n",
      "22/11/04 09:51:25 WARN Utils: Set SPARK_LOCAL_IP if you need to bind to another address\n"
     ]
    },
    {
     "name": "stderr",
     "output_type": "stream",
     "text": [
      "Setting default log level to \"WARN\".\n",
      "To adjust logging level use sc.setLogLevel(newLevel). For SparkR, use setLogLevel(newLevel).\n"
     ]
    },
    {
     "name": "stdout",
     "output_type": "stream",
     "text": [
      "22/11/04 09:51:27 WARN NativeCodeLoader: Unable to load native-hadoop library for your platform... using builtin-java classes where applicable\n"
     ]
    }
   ],
   "source": [
    "spark = SparkSession.builder.appName(\"Apache PySpark Final Project-Zomato-Task\").getOrCreate()"
   ]
  },
  {
   "cell_type": "code",
   "execution_count": 3,
   "metadata": {},
   "outputs": [
    {
     "name": "stderr",
     "output_type": "stream",
     "text": [
      "                                                                                \r"
     ]
    }
   ],
   "source": [
    "cleaned_zomato = spark.read.csv('data/cleaned_zomato_df.csv',inferSchema=True,header=True)"
   ]
  },
  {
   "cell_type": "code",
   "execution_count": 4,
   "metadata": {},
   "outputs": [
    {
     "data": {
      "text/plain": [
       "['name',\n",
       " 'online_order',\n",
       " 'book_table',\n",
       " 'rating',\n",
       " 'votes',\n",
       " 'phone',\n",
       " 'location',\n",
       " 'type',\n",
       " 'dish_liked',\n",
       " 'cuisines',\n",
       " 'approx_cost_two_people']"
      ]
     },
     "execution_count": 4,
     "metadata": {},
     "output_type": "execute_result"
    }
   ],
   "source": [
    "cleaned_zomato.columns"
   ]
  },
  {
   "cell_type": "markdown",
   "metadata": {},
   "source": [
    "# Task 0: convert \"NEW\" and \"-\" in rating to \"0\" and x/5 to x"
   ]
  },
  {
   "cell_type": "code",
   "execution_count": 5,
   "metadata": {},
   "outputs": [],
   "source": [
    "def convert(strr):\n",
    "    if(strr == 'NEW' or strr == '-'):\n",
    "        return \"0\"\n",
    "    else:\n",
    "        value = str(strr).split('/')\n",
    "        value = value[0]\n",
    "        return float(value)\n"
   ]
  },
  {
   "cell_type": "code",
   "execution_count": 6,
   "metadata": {},
   "outputs": [],
   "source": [
    "convertUDF = udf(lambda string : convert(string),StringType())"
   ]
  },
  {
   "cell_type": "code",
   "execution_count": 7,
   "metadata": {},
   "outputs": [
    {
     "name": "stderr",
     "output_type": "stream",
     "text": [
      "                                                                                \r"
     ]
    },
    {
     "name": "stdout",
     "output_type": "stream",
     "text": [
      "+--------------------+------------+----------+------+-----+--------------+------------------+-------------------+--------------------+--------------------+----------------------+\n",
      "|                name|online_order|book_table|rating|votes|         phone|          location|               type|          dish_liked|            cuisines|approx_cost_two_people|\n",
      "+--------------------+------------+----------+------+-----+--------------+------------------+-------------------+--------------------+--------------------+----------------------+\n",
      "|      Spice Elephant|         Yes|        No|   4.1|  787|  080 41714161|      Banashankari|      Casual Dining|Momos, Lunch Buff...|Chinese, North In...|                   800|\n",
      "|     San Churro Cafe|         Yes|        No|   3.8|  918|+91 9663487993|      Banashankari|Cafe, Casual Dining|Churros, Cannello...|Cafe, Mexican, It...|                   800|\n",
      "|Addhuri Udupi Bho...|          No|        No|   3.7|   88|+91 9620009302|      Banashankari|        Quick Bites|         Masala Dosa|South Indian, Nor...|                   300|\n",
      "|        Cafe Shuffle|         Yes|       Yes|   4.2|  150|+91 9742166777|      Banashankari|               Cafe|Mocktails, Peri F...|Cafe, Italian, Co...|                   600|\n",
      "|    The Coffee Shack|         Yes|       Yes|   4.2|  164|+91 9731644212|      Banashankari|               Cafe|Coffee, Spaghetti...|Cafe, Chinese, Co...|                   500|\n",
      "|          Caf-Eleven|          No|        No|   4.0|  424|  080 49577715|      Banashankari|               Cafe|Sandwich, Omelett...|   Cafe, Continental|                   450|\n",
      "|     San Churro Cafe|         Yes|        No|   3.8|  918|+91 9663487993|      Banashankari|Cafe, Casual Dining|Churros, Cannello...|Cafe, Mexican, It...|                   800|\n",
      "|            T3H Cafe|          No|        No|   3.9|   93|+91 8884726600|      Banashankari|               Cafe|Cheese Maggi, Per...|Cafe, Italian, Am...|                   300|\n",
      "|        Woodee Pizza|         Yes|        No|   3.7|  180|+91 7406822844|      Banashankari|               Cafe| Pizza, Garlic Bread|Cafe, Pizza, Fast...|                   500|\n",
      "|           Redberrys|         Yes|        No|   4.0|  219|+91 9148421256|      Basavanagudi|               Cafe|Pizza, Fries, Anj...|       Cafe, Italian|                   600|\n",
      "|          Foodiction|         Yes|        No|   2.8|  506|+91 9916107070|      Banashankari|        Quick Bites|Burgers, Lassi, C...|North Indian, Fas...|                   500|\n",
      "|     Ovenstory Pizza|         Yes|        No|   3.9|  172|+91 7738383000|      Banashankari|           Delivery|Paneer Tikka, Gar...|               Pizza|                   750|\n",
      "|              Faasos|         Yes|        No|   4.2|  415|+91 7700020020|      Banashankari|        Quick Bites|Rolls, Veggie Wra...|North Indian, Bir...|                   500|\n",
      "|   Empire Restaurant|         Yes|        No|   4.4| 4884|  080 49653266|         Jayanagar|      Casual Dining|Chicken Tikka Mas...|North Indian, Mug...|                   750|\n",
      "|           Chaatimes|         Yes|        No|   3.8|  133|+91 8884232233|      Basavanagudi|        Quick Bites|Dabeli, Faluda, M...|Street Food, Fast...|                   200|\n",
      "|      Kitchen Garden|         Yes|        No|   3.6|  244|  080 49652867|Kumaraswamy Layout|        Quick Bites|             Biryani|North Indian, Chi...|                   300|\n",
      "|           FreshMenu|         Yes|        No|   3.9|  627|  080 40424242|      Banashankari|           Delivery|Salads, Sandwiche...|Healthy Food, Chi...|                   450|\n",
      "|            Goa 0 Km|         Yes|       Yes|   3.6|  163|  080 49653548|Kumaraswamy Layout|      Casual Dining|Sea Food, Crab Me...|Goan, Seafood, No...|                   800|\n",
      "|         Kabab Magic|         Yes|        No|   4.1| 1720|  080 26570381|      Basavanagudi|        Quick Bites|Grape Juice, Chic...|North Indian, Keb...|                   400|\n",
      "|  Gustoes Beer House|          No|        No|   4.1|  868|  080 49653521|      Banashankari|                Pub|Beer, Wedges, Piz...|Continental, Ital...|                 1,200|\n",
      "+--------------------+------------+----------+------+-----+--------------+------------------+-------------------+--------------------+--------------------+----------------------+\n",
      "only showing top 20 rows\n",
      "\n"
     ]
    }
   ],
   "source": [
    "cleaned_zomato_rate = cleaned_zomato.withColumn(\"rating\", convertUDF(col('rating')))\n",
    "cleaned_zomato_rate.toPandas().to_csv('data/cleaned_zomato_rate.csv',index= False)\n",
    "cleaned_zomato_rate.show()"
   ]
  },
  {
   "cell_type": "code",
   "execution_count": 8,
   "metadata": {},
   "outputs": [],
   "source": [
    "cleaned_zomato_rating = spark.read.csv('data/cleaned_zomato_rate.csv',inferSchema=True,header=True)"
   ]
  },
  {
   "cell_type": "code",
   "execution_count": 9,
   "metadata": {
    "scrolled": true
   },
   "outputs": [
    {
     "name": "stdout",
     "output_type": "stream",
     "text": [
      "+--------------------+------------+----------+------+-----+--------------+------------+-------------------+--------------------+--------------------+----------------------+\n",
      "|                name|online_order|book_table|rating|votes|         phone|    location|               type|          dish_liked|            cuisines|approx_cost_two_people|\n",
      "+--------------------+------------+----------+------+-----+--------------+------------+-------------------+--------------------+--------------------+----------------------+\n",
      "|      Spice Elephant|         Yes|        No|   4.1|  787|  080 41714161|Banashankari|      Casual Dining|Momos, Lunch Buff...|Chinese, North In...|                   800|\n",
      "|     San Churro Cafe|         Yes|        No|   3.8|  918|+91 9663487993|Banashankari|Cafe, Casual Dining|Churros, Cannello...|Cafe, Mexican, It...|                   800|\n",
      "|Addhuri Udupi Bho...|          No|        No|   3.7|   88|+91 9620009302|Banashankari|        Quick Bites|         Masala Dosa|South Indian, Nor...|                   300|\n",
      "|        Cafe Shuffle|         Yes|       Yes|   4.2|  150|+91 9742166777|Banashankari|               Cafe|Mocktails, Peri F...|Cafe, Italian, Co...|                   600|\n",
      "|    The Coffee Shack|         Yes|       Yes|   4.2|  164|+91 9731644212|Banashankari|               Cafe|Coffee, Spaghetti...|Cafe, Chinese, Co...|                   500|\n",
      "+--------------------+------------+----------+------+-----+--------------+------------+-------------------+--------------------+--------------------+----------------------+\n",
      "only showing top 5 rows\n",
      "\n"
     ]
    }
   ],
   "source": [
    "cleaned_zomato_rating.show(5)"
   ]
  },
  {
   "cell_type": "code",
   "execution_count": 10,
   "metadata": {},
   "outputs": [
    {
     "data": {
      "text/plain": [
       "['name',\n",
       " 'online_order',\n",
       " 'book_table',\n",
       " 'rating',\n",
       " 'votes',\n",
       " 'phone',\n",
       " 'location',\n",
       " 'type',\n",
       " 'dish_liked',\n",
       " 'cuisines',\n",
       " 'approx_cost_two_people']"
      ]
     },
     "execution_count": 10,
     "metadata": {},
     "output_type": "execute_result"
    }
   ],
   "source": [
    "cleaned_zomato_rating.columns"
   ]
  },
  {
   "cell_type": "markdown",
   "metadata": {},
   "source": [
    "# Task 1: Find resturants which can provide Italian items."
   ]
  },
  {
   "cell_type": "code",
   "execution_count": 11,
   "metadata": {},
   "outputs": [
    {
     "name": "stderr",
     "output_type": "stream",
     "text": [
      "\r",
      "[Stage 7:>                                                          (0 + 1) / 1]\r"
     ]
    },
    {
     "name": "stdout",
     "output_type": "stream",
     "text": [
      "+--------------------+--------------------+--------------------+--------------------+\n",
      "|                name|            location|            cuisines|       cuisines_list|\n",
      "+--------------------+--------------------+--------------------+--------------------+\n",
      "|           Java City|           Jayanagar|Cafe, American, P...|[Cafe,  American,...|\n",
      "|Corner House Ice ...|           Jayanagar| Ice Cream, Desserts|[Ice Cream,  Dess...|\n",
      "|                 KFC|   Bannerghatta Road|   Burger, Fast Food|[Burger,  Fast Food]|\n",
      "|   Sreeraj Lassi Bar|        Shanti Nagar| Beverages, Desserts|[Beverages,  Dess...|\n",
      "|               Petoo|                 HSR|North Indian, Fas...|[North Indian,  F...|\n",
      "|            Foodbell|       Sarjapur Road|North Indian, Chi...|[North Indian,  C...|\n",
      "|Donne Biriyani House|         Indiranagar|             Biryani|           [Biryani]|\n",
      "|Polo Club - The O...|             MG Road|American, North I...|[American,  North...|\n",
      "| The Spice Pavillion|        Marathahalli|        North Indian|      [North Indian]|\n",
      "|            Cakewala|            JP Nagar|    Bakery, Desserts| [Bakery,  Desserts]|\n",
      "|    Mid-Night Crunch|                 HSR|North Indian, Chi...|[North Indian,  C...|\n",
      "|          McDonald's|           Jayanagar|   Fast Food, Burger|[Fast Food,  Burger]|\n",
      "|Cinnamon - Renais...|    Race Course Road|            Desserts|          [Desserts]|\n",
      "|    Second Wife Cafe|                 HSR|Arabian, North In...|[Arabian,  North ...|\n",
      "|          Cafe Braqa|         Indiranagar|Cafe, Italian, Co...|[Cafe,  Italian, ...|\n",
      "|                 KFC|                 HSR|   Burger, Fast Food|[Burger,  Fast Food]|\n",
      "|          Ulavacharu|Koramangala 5th B...|Andhra, North Ind...|[Andhra,  North I...|\n",
      "|                 KFC|     Electronic City|   Burger, Fast Food|[Burger,  Fast Food]|\n",
      "|     Hyderabad Magic|     Electronic City|Hyderabadi, Chine...|[Hyderabadi,  Chi...|\n",
      "| Komala Refreshments|         Frazer Town|        South Indian|      [South Indian]|\n",
      "+--------------------+--------------------+--------------------+--------------------+\n",
      "only showing top 20 rows\n",
      "\n"
     ]
    },
    {
     "name": "stderr",
     "output_type": "stream",
     "text": [
      "\r",
      "                                                                                \r"
     ]
    }
   ],
   "source": [
    "from pyspark.sql.functions import split, col\n",
    "cuisine_list = cleaned_zomato_rating\\\n",
    "    .select(col('name'),col('location'),col('cuisines'),split(col(\"cuisines\"),\",\").alias(\"cuisines_list\"))\\\n",
    "    .dropDuplicates()\n",
    "\n",
    "cuisine_list.show()"
   ]
  },
  {
   "cell_type": "code",
   "execution_count": 12,
   "metadata": {},
   "outputs": [
    {
     "name": "stdout",
     "output_type": "stream",
     "text": [
      "+--------------------+------------+----------+------+-----+--------------+-------------+-------------------+--------------------+--------------------+----------------------+\n",
      "|                name|online_order|book_table|rating|votes|         phone|     location|               type|          dish_liked|            cuisines|approx_cost_two_people|\n",
      "+--------------------+------------+----------+------+-----+--------------+-------------+-------------------+--------------------+--------------------+----------------------+\n",
      "|Byg Brewski Brewi...|         Yes|       Yes|   4.9|16832|+91 8039514766|Sarjapur Road|       Microbrewery|Cocktails, Butter...|Continental, Nort...|                 1,600|\n",
      "|Byg Brewski Brewi...|         Yes|       Yes|   4.9|16832|+91 8039514766|Sarjapur Road|       Microbrewery|Cocktails, Butter...|Continental, Nort...|                 1,600|\n",
      "|Byg Brewski Brewi...|         Yes|       Yes|   4.9|16832|+91 8039514766|Sarjapur Road|       Microbrewery|Cocktails, Butter...|Continental, Nort...|                 1,600|\n",
      "|Byg Brewski Brewi...|         Yes|       Yes|   4.9|16345|+91 8039514766|Sarjapur Road|       Microbrewery|Cocktails, Dahi K...|Continental, Nort...|                 1,600|\n",
      "|Byg Brewski Brewi...|         Yes|       Yes|   4.9|16345|+91 8039514766|Sarjapur Road|       Microbrewery|Cocktails, Dahi K...|Continental, Nort...|                 1,600|\n",
      "|Byg Brewski Brewi...|         Yes|       Yes|   4.9|16345|+91 8039514766|Sarjapur Road|       Microbrewery|Cocktails, Dahi K...|Continental, Nort...|                 1,600|\n",
      "|                Toit|          No|        No|   4.7|14956|+91 9019713388|  Indiranagar|       Microbrewery|Beer, Pesto Pizza...|Italian, American...|                 1,500|\n",
      "|                Toit|          No|        No|   4.7|14956|+91 9019713388|  Indiranagar|       Microbrewery|Beer, Pesto Pizza...|Italian, American...|                 1,500|\n",
      "|      TBC Sky Lounge|          No|       Yes|   4.7| 6745|+91 7338649944|          HSR| Casual Dining, Bar|Kulcha, Cocktails...|Continental, Asia...|                 1,000|\n",
      "|      TBC Sky Lounge|          No|       Yes|   4.7| 6745|+91 7338649944|          HSR| Casual Dining, Bar|Kulcha, Cocktails...|Continental, Asia...|                 1,000|\n",
      "|      TBC Sky Lounge|          No|       Yes|   4.7| 6745|+91 7338649944|          HSR| Casual Dining, Bar|Kulcha, Cocktails...|Continental, Asia...|                 1,000|\n",
      "|      The Globe Grub|          No|       Yes|   4.8| 3932|  080 49652558| Marathahalli|      Casual Dining|Mutton Curry, Mut...|Continental, Nort...|                 1,300|\n",
      "|      The Globe Grub|          No|       Yes|   4.8| 3932|  080 49652558| Marathahalli|      Casual Dining|Mutton Curry, Mut...|Continental, Nort...|                 1,300|\n",
      "|              Onesta|         Yes|       Yes|   4.4| 3859|+91 7337844620|          HSR|Casual Dining, Cafe|Banana Smoothie, ...|Pizza, Cafe, Italian|                   600|\n",
      "|              Onesta|         Yes|       Yes|   4.4| 3766|+91 7337844620|          HSR|Casual Dining, Cafe|Banana Smoothie, ...|Pizza, Cafe, Italian|                   600|\n",
      "|              Onesta|         Yes|       Yes|   4.4| 3764|+91 7337844620|          HSR|Casual Dining, Cafe|Banana Smoothie, ...|Pizza, Cafe, Italian|                   600|\n",
      "|              Onesta|         Yes|       Yes|   4.4| 3764|+91 7337844620|          HSR|Casual Dining, Cafe|Banana Smoothie, ...|Pizza, Cafe, Italian|                   600|\n",
      "|              Onesta|         Yes|       Yes|   4.4| 3764|+91 7337844620|          HSR|Casual Dining, Cafe|Banana Smoothie, ...|Pizza, Cafe, Italian|                   600|\n",
      "|              Onesta|         Yes|       Yes|   4.4| 3764|+91 7337844620|          HSR|Casual Dining, Cafe|Banana Smoothie, ...|Pizza, Cafe, Italian|                   600|\n",
      "|              Onesta|         Yes|       Yes|   4.4| 3764|+91 7337844620|          HSR|Casual Dining, Cafe|Banana Smoothie, ...|Pizza, Cafe, Italian|                   600|\n",
      "+--------------------+------------+----------+------+-----+--------------+-------------+-------------------+--------------------+--------------------+----------------------+\n",
      "only showing top 20 rows\n",
      "\n"
     ]
    }
   ],
   "source": [
    "italian_items=cleaned_zomato_rating.filter(col('cuisines').like(\"%Italian%\").alias(\"Italian Item\"))\\\n",
    "    .orderBy(col(\"votes\").desc(),col(\"rating\").desc())\n",
    "\n",
    "italian_items.toPandas().to_csv('data/italian_items.csv',index = False)\n",
    "italian_items.show()"
   ]
  },
  {
   "cell_type": "code",
   "execution_count": 13,
   "metadata": {},
   "outputs": [
    {
     "name": "stdout",
     "output_type": "stream",
     "text": [
      "+------+------------+----------+------+-----+--------------+------------+-------------------+--------------------+--------------------+----------------------+\n",
      "|  name|online_order|book_table|rating|votes|         phone|    location|               type|          dish_liked|            cuisines|approx_cost_two_people|\n",
      "+------+------------+----------+------+-----+--------------+------------+-------------------+--------------------+--------------------+----------------------+\n",
      "|Onesta|         Yes|       Yes|   4.6| 1755|+91 8049525686|Basavanagudi|Casual Dining, Cafe|Barbeque Chicken ...|Pizza, Cafe, Italian|                   600|\n",
      "|Onesta|         Yes|       Yes|   4.6| 1755|+91 8049525686|Basavanagudi|Casual Dining, Cafe|Barbeque Chicken ...|Pizza, Cafe, Italian|                   600|\n",
      "|Onesta|         Yes|       Yes|   4.4| 3738|+91 7337844620|         HSR|Casual Dining, Cafe|Banana Smoothie, ...|Pizza, Cafe, Italian|                   600|\n",
      "|Onesta|         Yes|       Yes|   4.4| 3764|+91 7337844620|         HSR|Casual Dining, Cafe|Banana Smoothie, ...|Pizza, Cafe, Italian|                   600|\n",
      "|Onesta|         Yes|       Yes|   4.4| 3764|+91 7337844620|         HSR|Casual Dining, Cafe|Banana Smoothie, ...|Pizza, Cafe, Italian|                   600|\n",
      "|Onesta|         Yes|       Yes|   4.4| 3764|+91 7337844620|         HSR|Casual Dining, Cafe|Banana Smoothie, ...|Pizza, Cafe, Italian|                   600|\n",
      "|Onesta|         Yes|       Yes|   4.4| 3764|+91 7337844620|         HSR|Casual Dining, Cafe|Banana Smoothie, ...|Pizza, Cafe, Italian|                   600|\n",
      "|Onesta|         Yes|       Yes|   4.4| 3764|+91 7337844620|         HSR|Casual Dining, Cafe|Banana Smoothie, ...|Pizza, Cafe, Italian|                   600|\n",
      "|Onesta|         Yes|       Yes|   4.4| 3766|+91 7337844620|         HSR|Casual Dining, Cafe|Banana Smoothie, ...|Pizza, Cafe, Italian|                   600|\n",
      "|Onesta|         Yes|       Yes|   4.4| 3859|+91 7337844620|         HSR|Casual Dining, Cafe|Banana Smoothie, ...|Pizza, Cafe, Italian|                   600|\n",
      "+------+------------+----------+------+-----+--------------+------------+-------------------+--------------------+--------------------+----------------------+\n",
      "\n"
     ]
    }
   ],
   "source": [
    "dish_liked=cleaned_zomato_rating.filter(col('dish_liked').like(\"%Mushroom Ravioli%\").alias(\"Mushroom Ravioli\"))\n",
    "\n",
    "dish_liked.toPandas().to_csv('data/dish_liked.csv',index = False)\n",
    "dish_liked.show()\n"
   ]
  },
  {
   "cell_type": "markdown",
   "metadata": {},
   "source": [
    "# Task 2: Most liked restaurant in the city Banashankari"
   ]
  },
  {
   "cell_type": "code",
   "execution_count": 14,
   "metadata": {},
   "outputs": [
    {
     "name": "stdout",
     "output_type": "stream",
     "text": [
      "+---------------+------------+----------+------+-----+--------------+------------+-------------------+-----------------------------------------------------------------------------------------------+-------------------------------------+----------------------+\n",
      "|name           |online_order|book_table|rating|votes|phone         |location    |type               |dish_liked                                                                                     |cuisines                             |approx_cost_two_people|\n",
      "+---------------+------------+----------+------+-----+--------------+------------+-------------------+-----------------------------------------------------------------------------------------------+-------------------------------------+----------------------+\n",
      "|Vinny's        |Yes         |Yes       |4.2   |2130 |080 26716795  |Banashankari|Casual Dining      |Pizza, Pasta, Garlic Bread, Nachos, Penne Alfredo, Mozzarella Sticks, Salad                    |Pizza, Italian, Continental, Desserts|800                   |\n",
      "|Vinny's        |Yes         |Yes       |4.2   |2123 |080 26716795  |Banashankari|Casual Dining      |Pizza, Pasta, Garlic Bread, Nachos, Penne Alfredo, Mozzarella Sticks, Salad                    |Pizza, Italian, Continental, Desserts|800                   |\n",
      "|Vinny's        |Yes         |Yes       |4.2   |2115 |080 26716795  |Banashankari|Casual Dining      |Pizza, Pasta, Garlic Bread, Nachos, Penne Alfredo, Mozzarella Sticks, Salad                    |Pizza, Italian, Continental, Desserts|800                   |\n",
      "|Vinny's        |Yes         |Yes       |4.2   |2115 |080 26716795  |Banashankari|Casual Dining      |Pizza, Pasta, Garlic Bread, Nachos, Penne Alfredo, Mozzarella Sticks, Salad                    |Pizza, Italian, Continental, Desserts|800                   |\n",
      "|Vinny's        |Yes         |Yes       |4.2   |2115 |080 26716795  |Banashankari|Casual Dining      |Pizza, Pasta, Garlic Bread, Nachos, Penne Alfredo, Mozzarella Sticks, Salad                    |Pizza, Italian, Continental, Desserts|800                   |\n",
      "|Vinny's        |Yes         |Yes       |4.2   |2115 |080 26716795  |Banashankari|Casual Dining      |Pizza, Pasta, Garlic Bread, Nachos, Penne Alfredo, Mozzarella Sticks, Salad                    |Pizza, Italian, Continental, Desserts|800                   |\n",
      "|San Churro Cafe|Yes         |No        |3.8   |924  |+91 9663487993|Banashankari|Cafe, Casual Dining|Churros, Cannelloni, Minestrone Soup, Hot Chocolate, Pizza, Pink Sauce Pasta, Salsa            |Cafe, Mexican, Italian               |800                   |\n",
      "|San Churro Cafe|Yes         |No        |3.8   |918  |+91 9663487993|Banashankari|Cafe, Casual Dining|Churros, Cannelloni, Minestrone Soup, Hot Chocolate, Pink Sauce Pasta, Salsa, Veg Supreme Pizza|Cafe, Mexican, Italian               |800                   |\n",
      "|San Churro Cafe|Yes         |No        |3.8   |918  |+91 9663487993|Banashankari|Cafe, Casual Dining|Churros, Cannelloni, Minestrone Soup, Hot Chocolate, Pink Sauce Pasta, Salsa, Veg Supreme Pizza|Cafe, Mexican, Italian               |800                   |\n",
      "|San Churro Cafe|Yes         |No        |3.8   |918  |+91 9663487993|Banashankari|Cafe, Casual Dining|Churros, Cannelloni, Minestrone Soup, Hot Chocolate, Pink Sauce Pasta, Salsa, Veg Supreme Pizza|Cafe, Mexican, Italian               |800                   |\n",
      "+---------------+------------+----------+------+-----+--------------+------------+-------------------+-----------------------------------------------------------------------------------------------+-------------------------------------+----------------------+\n",
      "only showing top 10 rows\n",
      "\n"
     ]
    }
   ],
   "source": [
    "location_Banashankari=cleaned_zomato_rating\\\n",
    "    .filter(col(\"location\")== \"Banashankari\")\\\n",
    "    .orderBy(col(\"votes\").desc(),col(\"rating\").desc())\n",
    "\n",
    "location_Banashankari.toPandas().to_csv('data/location_Banashankari.csv',index= False)\n",
    "\n",
    "location_Banashankari.show(10,truncate=False)"
   ]
  },
  {
   "cell_type": "markdown",
   "metadata": {},
   "source": [
    "# Task 3: Change Yes to True and No to False in columns online_order using UDF."
   ]
  },
  {
   "cell_type": "code",
   "execution_count": 15,
   "metadata": {},
   "outputs": [],
   "source": [
    "def online_order_and_book_table(strr):\n",
    "    if strr == \"Yes\":\n",
    "        return True\n",
    "    \n",
    "    elif strr == \"No\":\n",
    "        return False\n",
    "    \n",
    "    else:\n",
    "        return False"
   ]
  },
  {
   "cell_type": "code",
   "execution_count": 16,
   "metadata": {},
   "outputs": [],
   "source": [
    "convertUDF = udf(lambda string : online_order_and_book_table(string),StringType())"
   ]
  },
  {
   "cell_type": "code",
   "execution_count": 18,
   "metadata": {},
   "outputs": [
    {
     "name": "stdout",
     "output_type": "stream",
     "text": [
      "+--------------------+------------+----------+------+-----+--------------+------------------+-------------------+--------------------+--------------------+----------------------+\n",
      "|                name|online_order|book_table|rating|votes|         phone|          location|               type|          dish_liked|            cuisines|approx_cost_two_people|\n",
      "+--------------------+------------+----------+------+-----+--------------+------------------+-------------------+--------------------+--------------------+----------------------+\n",
      "|      Spice Elephant|        true|        No|   4.1|  787|  080 41714161|      Banashankari|      Casual Dining|Momos, Lunch Buff...|Chinese, North In...|                   800|\n",
      "|     San Churro Cafe|        true|        No|   3.8|  918|+91 9663487993|      Banashankari|Cafe, Casual Dining|Churros, Cannello...|Cafe, Mexican, It...|                   800|\n",
      "|Addhuri Udupi Bho...|       false|        No|   3.7|   88|+91 9620009302|      Banashankari|        Quick Bites|         Masala Dosa|South Indian, Nor...|                   300|\n",
      "|        Cafe Shuffle|        true|       Yes|   4.2|  150|+91 9742166777|      Banashankari|               Cafe|Mocktails, Peri F...|Cafe, Italian, Co...|                   600|\n",
      "|    The Coffee Shack|        true|       Yes|   4.2|  164|+91 9731644212|      Banashankari|               Cafe|Coffee, Spaghetti...|Cafe, Chinese, Co...|                   500|\n",
      "|          Caf-Eleven|       false|        No|   4.0|  424|  080 49577715|      Banashankari|               Cafe|Sandwich, Omelett...|   Cafe, Continental|                   450|\n",
      "|     San Churro Cafe|        true|        No|   3.8|  918|+91 9663487993|      Banashankari|Cafe, Casual Dining|Churros, Cannello...|Cafe, Mexican, It...|                   800|\n",
      "|            T3H Cafe|       false|        No|   3.9|   93|+91 8884726600|      Banashankari|               Cafe|Cheese Maggi, Per...|Cafe, Italian, Am...|                   300|\n",
      "|        Woodee Pizza|        true|        No|   3.7|  180|+91 7406822844|      Banashankari|               Cafe| Pizza, Garlic Bread|Cafe, Pizza, Fast...|                   500|\n",
      "|           Redberrys|        true|        No|   4.0|  219|+91 9148421256|      Basavanagudi|               Cafe|Pizza, Fries, Anj...|       Cafe, Italian|                   600|\n",
      "|          Foodiction|        true|        No|   2.8|  506|+91 9916107070|      Banashankari|        Quick Bites|Burgers, Lassi, C...|North Indian, Fas...|                   500|\n",
      "|     Ovenstory Pizza|        true|        No|   3.9|  172|+91 7738383000|      Banashankari|           Delivery|Paneer Tikka, Gar...|               Pizza|                   750|\n",
      "|              Faasos|        true|        No|   4.2|  415|+91 7700020020|      Banashankari|        Quick Bites|Rolls, Veggie Wra...|North Indian, Bir...|                   500|\n",
      "|   Empire Restaurant|        true|        No|   4.4| 4884|  080 49653266|         Jayanagar|      Casual Dining|Chicken Tikka Mas...|North Indian, Mug...|                   750|\n",
      "|           Chaatimes|        true|        No|   3.8|  133|+91 8884232233|      Basavanagudi|        Quick Bites|Dabeli, Faluda, M...|Street Food, Fast...|                   200|\n",
      "|      Kitchen Garden|        true|        No|   3.6|  244|  080 49652867|Kumaraswamy Layout|        Quick Bites|             Biryani|North Indian, Chi...|                   300|\n",
      "|           FreshMenu|        true|        No|   3.9|  627|  080 40424242|      Banashankari|           Delivery|Salads, Sandwiche...|Healthy Food, Chi...|                   450|\n",
      "|            Goa 0 Km|        true|       Yes|   3.6|  163|  080 49653548|Kumaraswamy Layout|      Casual Dining|Sea Food, Crab Me...|Goan, Seafood, No...|                   800|\n",
      "|         Kabab Magic|        true|        No|   4.1| 1720|  080 26570381|      Basavanagudi|        Quick Bites|Grape Juice, Chic...|North Indian, Keb...|                   400|\n",
      "|  Gustoes Beer House|       false|        No|   4.1|  868|  080 49653521|      Banashankari|                Pub|Beer, Wedges, Piz...|Continental, Ital...|                 1,200|\n",
      "+--------------------+------------+----------+------+-----+--------------+------------------+-------------------+--------------------+--------------------+----------------------+\n",
      "only showing top 20 rows\n",
      "\n"
     ]
    }
   ],
   "source": [
    "online_order = cleaned_zomato_rating.withColumn(\"online_order\", convertUDF(col('online_order')))\n",
    "cleaned_zomato_rating=online_order\n",
    "online_order.toPandas().to_csv('data/online_order.csv',index= False)\n",
    "online_order.show()"
   ]
  },
  {
   "cell_type": "markdown",
   "metadata": {},
   "source": [
    "# Task 4: Change Yes to True and No to False in columns  book_table using UDF."
   ]
  },
  {
   "cell_type": "code",
   "execution_count": 19,
   "metadata": {},
   "outputs": [],
   "source": [
    "convertUDF = udf(lambda string : online_order_and_book_table(string),StringType())"
   ]
  },
  {
   "cell_type": "code",
   "execution_count": 20,
   "metadata": {},
   "outputs": [
    {
     "name": "stderr",
     "output_type": "stream",
     "text": [
      "\r",
      "[Stage 24:>                                                         (0 + 1) / 1]\r",
      "\r",
      "                                                                                \r"
     ]
    },
    {
     "name": "stdout",
     "output_type": "stream",
     "text": [
      "+--------------------+------------+----------+------+-----+--------------+------------------+-------------------+--------------------+--------------------+----------------------+\n",
      "|                name|online_order|book_table|rating|votes|         phone|          location|               type|          dish_liked|            cuisines|approx_cost_two_people|\n",
      "+--------------------+------------+----------+------+-----+--------------+------------------+-------------------+--------------------+--------------------+----------------------+\n",
      "|      Spice Elephant|        true|     false|   4.1|  787|  080 41714161|      Banashankari|      Casual Dining|Momos, Lunch Buff...|Chinese, North In...|                   800|\n",
      "|     San Churro Cafe|        true|     false|   3.8|  918|+91 9663487993|      Banashankari|Cafe, Casual Dining|Churros, Cannello...|Cafe, Mexican, It...|                   800|\n",
      "|Addhuri Udupi Bho...|       false|     false|   3.7|   88|+91 9620009302|      Banashankari|        Quick Bites|         Masala Dosa|South Indian, Nor...|                   300|\n",
      "|        Cafe Shuffle|        true|      true|   4.2|  150|+91 9742166777|      Banashankari|               Cafe|Mocktails, Peri F...|Cafe, Italian, Co...|                   600|\n",
      "|    The Coffee Shack|        true|      true|   4.2|  164|+91 9731644212|      Banashankari|               Cafe|Coffee, Spaghetti...|Cafe, Chinese, Co...|                   500|\n",
      "|          Caf-Eleven|       false|     false|   4.0|  424|  080 49577715|      Banashankari|               Cafe|Sandwich, Omelett...|   Cafe, Continental|                   450|\n",
      "|     San Churro Cafe|        true|     false|   3.8|  918|+91 9663487993|      Banashankari|Cafe, Casual Dining|Churros, Cannello...|Cafe, Mexican, It...|                   800|\n",
      "|            T3H Cafe|       false|     false|   3.9|   93|+91 8884726600|      Banashankari|               Cafe|Cheese Maggi, Per...|Cafe, Italian, Am...|                   300|\n",
      "|        Woodee Pizza|        true|     false|   3.7|  180|+91 7406822844|      Banashankari|               Cafe| Pizza, Garlic Bread|Cafe, Pizza, Fast...|                   500|\n",
      "|           Redberrys|        true|     false|   4.0|  219|+91 9148421256|      Basavanagudi|               Cafe|Pizza, Fries, Anj...|       Cafe, Italian|                   600|\n",
      "|          Foodiction|        true|     false|   2.8|  506|+91 9916107070|      Banashankari|        Quick Bites|Burgers, Lassi, C...|North Indian, Fas...|                   500|\n",
      "|     Ovenstory Pizza|        true|     false|   3.9|  172|+91 7738383000|      Banashankari|           Delivery|Paneer Tikka, Gar...|               Pizza|                   750|\n",
      "|              Faasos|        true|     false|   4.2|  415|+91 7700020020|      Banashankari|        Quick Bites|Rolls, Veggie Wra...|North Indian, Bir...|                   500|\n",
      "|   Empire Restaurant|        true|     false|   4.4| 4884|  080 49653266|         Jayanagar|      Casual Dining|Chicken Tikka Mas...|North Indian, Mug...|                   750|\n",
      "|           Chaatimes|        true|     false|   3.8|  133|+91 8884232233|      Basavanagudi|        Quick Bites|Dabeli, Faluda, M...|Street Food, Fast...|                   200|\n",
      "|      Kitchen Garden|        true|     false|   3.6|  244|  080 49652867|Kumaraswamy Layout|        Quick Bites|             Biryani|North Indian, Chi...|                   300|\n",
      "|           FreshMenu|        true|     false|   3.9|  627|  080 40424242|      Banashankari|           Delivery|Salads, Sandwiche...|Healthy Food, Chi...|                   450|\n",
      "|            Goa 0 Km|        true|      true|   3.6|  163|  080 49653548|Kumaraswamy Layout|      Casual Dining|Sea Food, Crab Me...|Goan, Seafood, No...|                   800|\n",
      "|         Kabab Magic|        true|     false|   4.1| 1720|  080 26570381|      Basavanagudi|        Quick Bites|Grape Juice, Chic...|North Indian, Keb...|                   400|\n",
      "|  Gustoes Beer House|       false|     false|   4.1|  868|  080 49653521|      Banashankari|                Pub|Beer, Wedges, Piz...|Continental, Ital...|                 1,200|\n",
      "+--------------------+------------+----------+------+-----+--------------+------------------+-------------------+--------------------+--------------------+----------------------+\n",
      "only showing top 20 rows\n",
      "\n"
     ]
    }
   ],
   "source": [
    "book_table = cleaned_zomato_rating.withColumn(\"book_table\", convertUDF(col('book_table')))\n",
    "cleaned_zomato_rating=book_table\n",
    "book_table.toPandas().to_csv('data/book_table.csv',index= False)\n",
    "book_table.show()"
   ]
  },
  {
   "cell_type": "markdown",
   "metadata": {},
   "source": [
    "# Task 5: List the best restaurants in each location(best in accordance with rate)\n",
    "\n"
   ]
  },
  {
   "cell_type": "code",
   "execution_count": 21,
   "metadata": {},
   "outputs": [
    {
     "name": "stdout",
     "output_type": "stream",
     "text": [
      "+--------------------+--------------------+-----------+----------+\n",
      "|                name|            location|max(rating)|max(votes)|\n",
      "+--------------------+--------------------+-----------+----------+\n",
      "|Belly Squad Food ...|     South Bangalore|        3.8|        55|\n",
      "|         Bakers Town|                 BTM|        3.6|        42|\n",
      "|            Foodbell|       Sarjapur Road|        0.0|         0|\n",
      "|             Zeeshan|       Sarjapur Road|        2.6|       156|\n",
      "|             Chatora|        Marathahalli|        3.5|       115|\n",
      "|      Drunken Monkey|        Marathahalli|        3.9|        98|\n",
      "|    Banana Beach Bar|Koramangala 6th B...|        3.7|      1016|\n",
      "|    House Of Commons|Koramangala 5th B...|        4.8|      4470|\n",
      "|          Chai Point|     Cunningham Road|        3.8|       149|\n",
      "|       Aligarh House|                 HSR|        4.4|       568|\n",
      "|  Mani's Dum Biryani|  Jeevan Bhima Nagar|        4.0|       691|\n",
      "|           Just Bake|  Jeevan Bhima Nagar|        3.0|        51|\n",
      "|        Rajan's Cafe|              Domlur|        2.8|        79|\n",
      "|        Biryani Miya|            JP Nagar|        3.7|        37|\n",
      "|       Mumbai Xpress|           Bellandur|        2.9|        92|\n",
      "|    Ice N Fries Cafe|       Sarjapur Road|        3.8|        45|\n",
      "|JW Kitchen - JW M...|        Lavelle Road|        4.4|      2143|\n",
      "|                Krem|Koramangala 5th B...|        4.1|        62|\n",
      "|              Faasos|                 HSR|        3.9|       355|\n",
      "|          Pizza Stop|           Jayanagar|        3.4|       145|\n",
      "+--------------------+--------------------+-----------+----------+\n",
      "only showing top 20 rows\n",
      "\n"
     ]
    }
   ],
   "source": [
    "best_restaurants=cleaned_zomato_rating.groupBy(\"name\",\"location\")\n",
    "best_restaurants.max().show()"
   ]
  },
  {
   "cell_type": "markdown",
   "metadata": {},
   "source": [
    "# Task 6:Find the total no. of voters in each location (window function)"
   ]
  },
  {
   "cell_type": "code",
   "execution_count": 22,
   "metadata": {},
   "outputs": [
    {
     "name": "stdout",
     "output_type": "stream",
     "text": [
      "+------------------+-----------+\n",
      "|          location|total_votes|\n",
      "+------------------+-----------+\n",
      "|               BTM|     248350|\n",
      "|      Banashankari|      53715|\n",
      "|         Banaswadi|      12870|\n",
      "| Bannerghatta Road|     119575|\n",
      "|      Basavanagudi|      55228|\n",
      "|Basaveshwara Nagar|       7123|\n",
      "|         Bellandur|      82887|\n",
      "|      Bommanahalli|        602|\n",
      "|      Brigade Road|     196476|\n",
      "|       Brookefield|      46651|\n",
      "|    CV Raman Nagar|       1363|\n",
      "| Central Bangalore|       1150|\n",
      "|     Church Street|     261087|\n",
      "|       City Market|        488|\n",
      "| Commercial Street|      12276|\n",
      "|   Cunningham Road|      39254|\n",
      "|            Domlur|      10604|\n",
      "|    East Bangalore|       2231|\n",
      "|           Ejipura|      10400|\n",
      "|   Electronic City|      38235|\n",
      "+------------------+-----------+\n",
      "only showing top 20 rows\n",
      "\n"
     ]
    }
   ],
   "source": [
    "from pyspark.sql.window import Window\n",
    "from pyspark.sql.functions import row_number,udf,col,sum\n",
    "windowSpec = Window.partitionBy('location')\n",
    "\n",
    "total_votes_by_city = cleaned_zomato_rating.withColumn('total_votes',sum(col('votes')).over(windowSpec))\\\n",
    "                                .select(col('location'),col('total_votes')).dropDuplicates()\n",
    "\n",
    "total_votes_by_city.toPandas().to_csv('data/total_votes_by_location.csv',index = False)\n",
    "\n",
    "total_votes_by_city.show()"
   ]
  },
  {
   "cell_type": "markdown",
   "metadata": {},
   "source": [
    "# Task 7: Find the list of restaurant based on the location and  and rating "
   ]
  },
  {
   "cell_type": "code",
   "execution_count": 23,
   "metadata": {},
   "outputs": [
    {
     "name": "stdout",
     "output_type": "stream",
     "text": [
      "+--------------------+------------+----------+------+-----+--------------+--------+--------------+--------------------+--------------------+----------------------+----------+\n",
      "|                name|online_order|book_table|rating|votes|         phone|location|          type|          dish_liked|            cuisines|approx_cost_two_people|row_number|\n",
      "+--------------------+------------+----------+------+-----+--------------+--------+--------------+--------------------+--------------------+----------------------+----------+\n",
      "|AB's - Absolute B...|       false|      true|   4.9| 6375|  040 45659912|     BTM| Casual Dining|Tangdi Chicken, B...|European, Mediter...|                 1,600|         1|\n",
      "|AB's - Absolute B...|       false|      true|   4.9| 6375|  040 45659912|     BTM| Casual Dining|Tangdi Chicken, B...|European, Mediter...|                 1,600|         2|\n",
      "|AB's - Absolute B...|       false|      true|   4.9| 6404|  040 45659912|     BTM| Casual Dining|Tangdi Chicken, B...|European, Mediter...|                 1,600|         3|\n",
      "|AB's - Absolute B...|       false|      true|   4.9| 6452|  040 45659912|     BTM| Casual Dining|Tangdi Chicken, B...|European, Mediter...|                 1,600|         4|\n",
      "|AB's - Absolute B...|       false|      true|   4.9| 6404|  040 45659912|     BTM| Casual Dining|Tangdi Chicken, B...|European, Mediter...|                 1,600|         5|\n",
      "|AB's - Absolute B...|       false|      true|   4.9| 6404|  040 45659912|     BTM| Casual Dining|Tangdi Chicken, B...|European, Mediter...|                 1,600|         6|\n",
      "|AB's - Absolute B...|       false|      true|   4.9| 6490|  040 45659912|     BTM| Casual Dining|Tangdi Chicken, B...|European, Mediter...|                 1,600|         7|\n",
      "|   XO Belgian Waffle|        true|     false|   4.5|  549|  080 45128804|     BTM|Dessert Parlor|Blueberry Waffles...| Desserts, Beverages|                   400|         8|\n",
      "|        Mudpipe Cafe|        true|      true|   4.5| 1872|+91 9631220007|     BTM|          Cafe|Chaat, Nachos, Pe...|Cafe, Continental...|                   900|         9|\n",
      "|        Mudpipe Cafe|        true|      true|   4.5| 1874|+91 9631220007|     BTM|          Cafe|Chaat, Nachos, Pe...|Cafe, Continental...|                   900|        10|\n",
      "+--------------------+------------+----------+------+-----+--------------+--------+--------------+--------------------+--------------------+----------------------+----------+\n",
      "only showing top 10 rows\n",
      "\n"
     ]
    }
   ],
   "source": [
    "from pyspark.sql.window import Window\n",
    "from pyspark.sql.functions import row_number\n",
    "windowSpec  = Window.partitionBy(\"location\").orderBy(col(\"rating\").desc())\n",
    "list_restaurants=cleaned_zomato_rating.withColumn(\"row_number\",row_number().over(windowSpec))\n",
    "list_restaurants.toPandas().to_csv('data/list_restaurants.csv',index= False)\n",
    "list_restaurants.show(10)"
   ]
  }
 ],
 "metadata": {
  "kernelspec": {
   "display_name": "Python 3 (ipykernel)",
   "language": "python",
   "name": "python3"
  },
  "language_info": {
   "codemirror_mode": {
    "name": "ipython",
    "version": 3
   },
   "file_extension": ".py",
   "mimetype": "text/x-python",
   "name": "python",
   "nbconvert_exporter": "python",
   "pygments_lexer": "ipython3",
   "version": "3.10.6"
  }
 },
 "nbformat": 4,
 "nbformat_minor": 4
}
